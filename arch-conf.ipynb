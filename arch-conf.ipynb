{
 "cells": [
  {
   "cell_type": "markdown",
   "id": "9a327d70",
   "metadata": {},
   "source": [
    "<div style=\"border-bottom: 1px solid;\">\n",
    "    <span style=\"font-size: 16px; color: black;\">Arch Linux:</span>\n",
    "    <span style=\"font-size: 12px; color: black;\">tweaks, setups, data recovery, tools</span>\n",
    "</div>"
   ]
  },
  {
   "cell_type": "markdown",
   "id": "d18b448d",
   "metadata": {},
   "source": [
    "&emsp;Data recovery from a 0 byte directory (if no other disk errors)"
   ]
  },
  {
   "cell_type": "markdown",
   "id": "18b14537",
   "metadata": {},
   "source": [
    "<div style=\"background-color: #eaeaea; color: white; border-radius: 10px; padding: 10px; margin-bottom: 10px; overflow: hidden; display: flex; flex-direction: column; justify-content: center; align-items: flex-start; position: relative; font-family: monospace; border: 1px solid #cfcfcf;\">\n",
    "  <div style=\"position: relative;\">\n",
    "    <div style=\"background-color: black; width: 100%; height: 5px; border-radius: 50%; position: absolute; top: -2px;\"></div>\n",
    "    <div style=\"background-color: black; width: 100%; height: 5px; border-radius: 50%; position: absolute; bottom: -2px;\"></div>\n",
    "  </div>\n",
    "  <div style=\"margin-left: 12px; font-weight: 500; color: #838383; flex-direction: column; align-items: center;\">\n",
    "    <span style=\"position: absolute; right: 14px; color: #6b6969; font-weight: 300; font-size: 8px; margin-top: -8px;\">linux</span>\n",
    "    <div>sudo ls -la dir_name</div>\n",
    "    <div>ls: reading directory <span style=\"color: #BA2121;\">'dir_name'</span>: Input/output error</div>\n",
    "    <div>total <span style=\"color: #008800;\">0</span></div>\n",
    "  </div>\n",
    "</div>\n"
   ]
  },
  {
   "cell_type": "markdown",
   "id": "27d579f0",
   "metadata": {},
   "source": [
    "&emsp;To rescue our data from the corrupted directory we need to install a package called \"testdisk\" "
   ]
  },
  {
   "cell_type": "markdown",
   "id": "96181e34",
   "metadata": {},
   "source": [
    "<div style=\"background-color: #eaeaea; color: white; border-radius: 10px; padding: 10px; margin-bottom: 10px; overflow: hidden; display: flex; flex-direction: column; justify-content: center; align-items: flex-start; position: relative; font-family: monospace; border: 1px solid #cfcfcf; \">\n",
    "  <div style=\"position: relative;\">\n",
    "    <div style=\"background-color: black; width: 100%; height: 5px; border-radius: 50%; position: absolute; top: -2px;\"></div>\n",
    "    <div style=\"background-color: black; width: 100%; height: 5px; border-radius: 50%; position: absolute; bottom: -2px;\"></div>\n",
    "  </div>\n",
    "  <div style=\"margin-left: 12px; font-weight: 500; color: #838383;\">\n",
    "    sudo\n",
    "    <span style=\"position: absolute; right: 14px; color: #6b6969; font-weight: 300; font-size: 8px; margin-top: -8px;\">pacman</span>\n",
    "    pacman -S testdisk\n",
    "  </div>\n",
    "</div>"
   ]
  },
  {
   "cell_type": "markdown",
   "id": "08734293",
   "metadata": {},
   "source": [
    "<div style=\"text-align: justify;\">\n",
    "<p>\n",
    "&emsp;After installing the testdisk package, we can run it in the terminal and navigate to the corrupted directory that contains our data. Testdisk operates at a low level, allowing it to read data from the corrupted directory effectively. Using the 'c' command, we can copy the data from the corrupted directory.\n",
    "</p>\n",
    "\n",
    "<p>\n",
    "&emsp;Testdisk is not limited to specific file systems and can also rescue data from NTFS or FAT partitions. This means it can handle a wide range of file system formats and assist in the recovery of data from different storage devices.\n",
    "</p>\n",
    "\n",
    "<p>\n",
    "&emsp;By leveraging its low-level data recovery capabilities, Testdisk offers a powerful solution for retrieving data from corrupt directories and partitions.\n",
    "</p>\n",
    "</div>"
   ]
  },
  {
   "cell_type": "markdown",
   "id": "b0853fd8",
   "metadata": {},
   "source": [
    "<hr>"
   ]
  },
  {
   "cell_type": "markdown",
   "id": "28326d22",
   "metadata": {},
   "source": [
    "&emsp;When dual-boot 2 or more Linux distros, make kernel params available for both (all) distros"
   ]
  },
  {
   "cell_type": "markdown",
   "id": "4213a581",
   "metadata": {},
   "source": [
    "<div style=\"background-color: #eaeaea; color: white; border-radius: 10px; padding: 10px; margin-bottom: 10px; overflow: hidden; display: flex; flex-direction: column; justify-content: center; align-items: flex-start; position: relative; font-family: monospace; border: 1px solid #cfcfcf; \">\n",
    "  <div style=\"position: relative;\">\n",
    "    <div style=\"background-color: black; width: 100%; height: 5px; border-radius: 50%; position: absolute; top: -2px;\"></div>\n",
    "    <div style=\"background-color: black; width: 100%; height: 5px; border-radius: 50%; position: absolute; bottom: -2px;\"></div>\n",
    "  </div>\n",
    "  <div style=\"margin-left: 12px; font-weight: 500; color: #838383;\">\n",
    "    edit[vim]:\n",
    "    <span style=\"position: absolute; right: 14px; color: #6b6969; font-weight: 300; font-size: 8px; margin-top: -8px;\">linux</span>\n",
    "    sudo vim /etc/grub.d/30_os-prober\n",
    "  </div>\n",
    "</div>"
   ]
  },
  {
   "cell_type": "markdown",
   "id": "b1097e96",
   "metadata": {},
   "source": [
    "&emsp;in ur main distro where u update GRUB (in my case Manjaro) and find the line"
   ]
  },
  {
   "cell_type": "markdown",
   "id": "c3e48d43",
   "metadata": {},
   "source": [
    "<div style=\"background-color: #eaeaea; color: white; border-radius: 10px; padding: 10px; margin-bottom: 10px; overflow: hidden; display: flex; flex-direction: column; justify-content: center; align-items: flex-start; position: relative; font-family: monospace; border: 1px solid #cfcfcf; \">\n",
    "  <div style=\"position: relative;\">\n",
    "    <div style=\"background-color: black; width: 100%; height: 5px; border-radius: 50%; position: absolute; top: -2px;\"></div>\n",
    "    <div style=\"background-color: black; width: 100%; height: 5px; border-radius: 50%; position: absolute; bottom: -2px;\"></div>\n",
    "  </div>\n",
    "  <div style=\"margin-left: 12px; font-weight: 500; color: #838383;\">\n",
    "    <span style=\"position: absolute; right: 14px; color: #6b6969; font-weight: 300; font-size: 8px; margin-top: -8px;\">linux</span>\n",
    "    linux \\${LKERNEL} \\${LPARAMS}\n",
    "  </div>\n",
    "</div>"
   ]
  },
  {
   "cell_type": "markdown",
   "id": "bef7c9de",
   "metadata": {},
   "source": [
    "&emsp;then add on the end of this line ${GRUB_CMDLINE_LINUX_DEFAULT}. It should look like this:"
   ]
  },
  {
   "cell_type": "markdown",
   "id": "b72c7dec",
   "metadata": {},
   "source": [
    "<div style=\"background-color: #eaeaea; color: white; border-radius: 10px; padding: 10px; margin-bottom: 10px; overflow: hidden; display: flex; flex-direction: column; justify-content: center; align-items: flex-start; position: relative; font-family: monospace; border: 1px solid #cfcfcf; \">\n",
    "  <div style=\"position: relative;\">\n",
    "    <div style=\"background-color: black; width: 100%; height: 5px; border-radius: 50%; position: absolute; top: -2px;\"></div>\n",
    "    <div style=\"background-color: black; width: 100%; height: 5px; border-radius: 50%; position: absolute; bottom: -2px;\"></div>\n",
    "  </div>\n",
    "  <div style=\"margin-left: 12px; font-weight: 500; color: #838383;\">\n",
    "    <span style=\"position: absolute; right: 14px; color: #6b6969; font-weight: 300; font-size: 8px; margin-top: -8px;\">linux</span>\n",
    "    linux \\${LKERNEL} \\${LPARAMS} \\${GRUB_CMDLINE_LINUX_DEFAULT}\n",
    "  </div>\n",
    "</div>"
   ]
  },
  {
   "cell_type": "markdown",
   "id": "c05e7057",
   "metadata": {},
   "source": [
    "<div style=\"text-align: justify;\"><p>\n",
    "    &emsp;This option will set same kernel params to both (all) distros.</p> \n",
    "    <p>&emsp;If u want to have separate kernel params for diff distros then use \\${ARCH_DEFAULT} for example (or any variable for the second distro u choose) instead of \\${GRUB_CMDLINE_LINUX_DEFAULT}.</p> \n",
    "    <p>&emsp;If you modify that line /etc/grub.d/30_os-prober u need to do the same modification in update-grub (if there is a second line named \\${GRUB_CMDLINE_LINUX_DEFAULT}  change it with the one u have chosen in /etc/grub.d/30_os-prober).\n",
    "    <p>&emsp;So the modified line in /etc/grub.d/30_os-prober should look something like this: </div>"
   ]
  },
  {
   "cell_type": "markdown",
   "id": "0c131206",
   "metadata": {},
   "source": [
    "<div style=\"background-color: #eaeaea; color: white; border-radius: 10px; padding: 10px; margin-bottom: 10px; overflow: hidden; display: flex; flex-direction: column; justify-content: center; align-items: flex-start; position: relative; font-family: monospace; border: 1px solid #cfcfcf; \">\n",
    "  <div style=\"position: relative;\">\n",
    "    <div style=\"background-color: black; width: 100%; height: 5px; border-radius: 50%; position: absolute; top: -2px;\"></div>\n",
    "    <div style=\"background-color: black; width: 100%; height: 5px; border-radius: 50%; position: absolute; bottom: -2px;\"></div>\n",
    "  </div>\n",
    "  <div style=\"margin-left: 12px; font-weight: 500; color: #838383;\">\n",
    "    <span style=\"position: absolute; right: 14px; color: #6b6969; font-weight: 300; font-size: 8px; margin-top: -8px;\">linux</span>\n",
    "    linux \\${LKERNEL} \\${LPARAMS} \\${ARCH_DEFAULT}\n",
    "  </div>\n",
    "</div>"
   ]
  },
  {
   "cell_type": "markdown",
   "id": "329bd681",
   "metadata": {},
   "source": [
    "&emsp;After the parameters in /etc/grub.d/30_os-prober re modified don't forget to run update-grub"
   ]
  },
  {
   "cell_type": "markdown",
   "id": "2cb66f41",
   "metadata": {},
   "source": [
    "<hr>"
   ]
  },
  {
   "cell_type": "markdown",
   "id": "d710c8ef",
   "metadata": {},
   "source": [
    "&emsp;How to check kernel vulnerabilities? Type the following command in terminal:"
   ]
  },
  {
   "cell_type": "markdown",
   "id": "ba031930",
   "metadata": {},
   "source": [
    "<div style=\"background-color: #eaeaea; color: white; border-radius: 10px; padding: 10px; margin-bottom: 10px; overflow: hidden; display: flex; flex-direction: column; justify-content: center; align-items: flex-start; position: relative; font-family: monospace; border: 1px solid #cfcfcf; \">\n",
    "  <div style=\"position: relative;\">\n",
    "    <div style=\"background-color: black; width: 100%; height: 5px; border-radius: 50%; position: absolute; top: -2px;\"></div>\n",
    "    <div style=\"background-color: black; width: 100%; height: 5px; border-radius: 50%; position: absolute; bottom: -2px;\"></div>\n",
    "  </div>\n",
    "  <div style=\"margin-left: 12px; font-weight: 500; color: #838383;\">\n",
    "    sudo\n",
    "    <span style=\"position: absolute; right: 14px; color: #6b6969; font-weight: 300; font-size: 8px; margin-top: -8px;\">linux</span>\n",
    "    grep . -r /sys/devices/system/cpu/vulnerabilities/\n",
    "  </div>\n",
    "</div>"
   ]
  },
  {
   "cell_type": "markdown",
   "id": "ce8a0e4f",
   "metadata": {},
   "source": [
    "&emsp;If u want to check which microcode version is installed run the following command:"
   ]
  },
  {
   "cell_type": "markdown",
   "id": "2728a366",
   "metadata": {},
   "source": [
    "<div style=\"background-color: #eaeaea; color: white; border-radius: 10px; padding: 10px; margin-bottom: 10px; overflow: hidden; display: flex; flex-direction: column; justify-content: center; align-items: flex-start; position: relative; font-family: monospace; border: 1px solid #cfcfcf; \">\n",
    "  <div style=\"position: relative;\">\n",
    "    <div style=\"background-color: black; width: 100%; height: 5px; border-radius: 50%; position: absolute; top: -2px;\"></div>\n",
    "    <div style=\"background-color: black; width: 100%; height: 5px; border-radius: 50%; position: absolute; bottom: -2px;\"></div>\n",
    "  </div>\n",
    "  <div style=\"margin-left: 12px; font-weight: 500; color: #838383;\">\n",
    "    sudo\n",
    "    <span style=\"position: absolute; right: 14px; color: #6b6969; font-weight: 300; font-size: 8px; margin-top: -8px;\">linux</span>\n",
    "    journalctl -b | grep -E microcode\n",
    "  </div>\n",
    "</div>"
   ]
  },
  {
   "cell_type": "markdown",
   "id": "fad750a1",
   "metadata": {},
   "source": [
    "<hr>"
   ]
  }
 ],
 "metadata": {
  "kernelspec": {
   "display_name": "Python 3 (ipykernel)",
   "language": "python",
   "name": "python3"
  },
  "language_info": {
   "codemirror_mode": {
    "name": "ipython",
    "version": 3
   },
   "file_extension": ".py",
   "mimetype": "text/x-python",
   "name": "python",
   "nbconvert_exporter": "python",
   "pygments_lexer": "ipython3",
   "version": "3.11.3"
  }
 },
 "nbformat": 4,
 "nbformat_minor": 5
}
