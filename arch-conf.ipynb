{
 "cells": [
  {
   "cell_type": "markdown",
   "id": "6e12e7ef",
   "metadata": {},
   "source": [
    "<span style=\"font-size: 16px; color: black;\">Arch Linux:</span> <span style=\"font-size: 12px; color: black;\">tweaks, setups, data recovery, tools</span>"
   ]
  },
  {
   "cell_type": "markdown",
   "id": "be2c48f8",
   "metadata": {},
   "source": [
    "Data recovery from a 0 byte directory (if no other disk errors)"
   ]
  },
  {
   "cell_type": "code",
   "execution_count": null,
   "id": "ac19ad24",
   "metadata": {},
   "outputs": [],
   "source": [
    "ls -la dir_name\n",
    "ls: reading directory 'dir_name': Input/output error\n",
    "total 0"
   ]
  },
  {
   "cell_type": "markdown",
   "id": "5852c98b",
   "metadata": {},
   "source": [
    "To rescue our data from the corrupted directory we need to install a package called \"testdisk\" "
   ]
  },
  {
   "cell_type": "code",
   "execution_count": null,
   "id": "2c42968a",
   "metadata": {},
   "outputs": [],
   "source": [
    "sudo pacman -S testdisk"
   ]
  },
  {
   "cell_type": "markdown",
   "id": "09ceb0b0",
   "metadata": {},
   "source": [
    "After installing the testdisk package, we can run it in the terminal and navigate to the directory that contains the corrupted data. Testdisk operates at a low level, allowing it to read data from the corrupted directory effectively. Using the 'c' command, we can copy the recovered data from the corrupted directory.\n",
    "\n",
    "Testdisk is not limited to specific file systems and can also rescue data from NTFS or FAT partitions. This means it can handle a wide range of file system formats and assist in the recovery of data from different storage devices.\n",
    "\n",
    "By leveraging its low-level data recovery capabilities, Testdisk offers a powerful solution for retrieving data from corrupt directories and partitions. "
   ]
  }
 ],
 "metadata": {
  "kernelspec": {
   "display_name": "Python 3 (ipykernel)",
   "language": "python",
   "name": "python3"
  },
  "language_info": {
   "codemirror_mode": {
    "name": "ipython",
    "version": 3
   },
   "file_extension": ".py",
   "mimetype": "text/x-python",
   "name": "python",
   "nbconvert_exporter": "python",
   "pygments_lexer": "ipython3",
   "version": "3.11.3"
  }
 },
 "nbformat": 4,
 "nbformat_minor": 5
}
