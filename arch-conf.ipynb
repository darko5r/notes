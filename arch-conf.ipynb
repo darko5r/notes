{
 "cells": [
  {
   "cell_type": "markdown",
   "id": "9a327d70",
   "metadata": {},
   "source": [
    "<div style=\"border-bottom: 1px solid;\">\n",
    "    <span style=\"font-size: 16px; color: black;\">Arch Linux:</span>\n",
    "    <span style=\"font-size: 12px; color: black;\">tweaks, setups, data recovery, tools</span>\n",
    "</div>"
   ]
  },
  {
   "cell_type": "markdown",
   "id": "d18b448d",
   "metadata": {},
   "source": [
    "Data recovery from a 0 byte directory (if no other disk errors)"
   ]
  },
  {
   "cell_type": "markdown",
   "id": "96b09a01",
   "metadata": {},
   "source": [
    "<div style=\"background-color: #eaeaea; color: white; border-radius: 10px; padding: 10px; margin-bottom: 10px; overflow: hidden; display: flex; flex-direction: column; justify-content: center; align-items: flex-start; position: relative; font-family: monospace; border: 1px solid #cfcfcf;\">\n",
    "  <div style=\"position: relative;\">\n",
    "    <div style=\"background-color: black; width: 100%; height: 5px; border-radius: 50%; position: absolute; top: -2px;\"></div>\n",
    "    <div style=\"background-color: black; width: 100%; height: 5px; border-radius: 50%; position: absolute; bottom: -2px;\"></div>\n",
    "  </div>\n",
    "  <div style=\"margin-left: 12px; font-weight: 500; color: #838383; flex-direction: column; align-items: center;\">\n",
    "    <span style=\"position: absolute; right: 14px; color: #6b6969; font-weight: 300; font-size: 8px; margin-top: -8px;\">linux</span>\n",
    "    <div>sudo ls -la dir_name</div>\n",
    "    <div>ls: reading directory <span style=\"color: #BA2121;\">'dir_name'</span>: Input/output error</div>\n",
    "    <div>total <span style=\"color: #008800;\">0</span></div>\n",
    "  </div>\n",
    "</div>\n"
   ]
  },
  {
   "cell_type": "markdown",
   "id": "27d579f0",
   "metadata": {},
   "source": [
    "To rescue our data from the corrupted directory we need to install a package called \"testdisk\" "
   ]
  },
  {
   "cell_type": "markdown",
   "id": "525d70d4",
   "metadata": {},
   "source": [
    "<div style=\"background-color: #eaeaea; color: white; border-radius: 10px; padding: 10px; margin-bottom: 10px; overflow: hidden; display: flex; flex-direction: column; justify-content: center; align-items: flex-start; position: relative; font-family: monospace; border: 1px solid #cfcfcf; \">\n",
    "  <div style=\"position: relative;\">\n",
    "    <div style=\"background-color: black; width: 100%; height: 5px; border-radius: 50%; position: absolute; top: -2px;\"></div>\n",
    "    <div style=\"background-color: black; width: 100%; height: 5px; border-radius: 50%; position: absolute; bottom: -2px;\"></div>\n",
    "  </div>\n",
    "  <div style=\"margin-left: 12px; font-weight: 500; color: #838383;\">\n",
    "    sudo\n",
    "    <span style=\"position: absolute; right: 14px; color: #6b6969; font-weight: 300; font-size: 8px; margin-top: -8px;\">pacman</span>\n",
    "    pacman -S testdisk\n",
    "  </div>\n",
    "</div>"
   ]
  },
  {
   "cell_type": "markdown",
   "id": "08734293",
   "metadata": {},
   "source": [
    "After installing the testdisk package, we can run it in the terminal and navigate to the corrupted directory that contains our data. Testdisk operates at a low level, allowing it to read data from the corrupted directory effectively. Using the 'c' command, we can copy the data from the corrupted directory.\n",
    "\n",
    "Testdisk is not limited to specific file systems and can also rescue data from NTFS or FAT partitions. This means it can handle a wide range of file system formats and assist in the recovery of data from different storage devices.\n",
    "\n",
    "By leveraging its low-level data recovery capabilities, Testdisk offers a powerful solution for retrieving data from corrupt directories and partitions."
   ]
  },
  {
   "cell_type": "code",
   "execution_count": null,
   "id": "79b2531f",
   "metadata": {},
   "outputs": [],
   "source": []
  }
 ],
 "metadata": {
  "kernelspec": {
   "display_name": "Python 3 (ipykernel)",
   "language": "python",
   "name": "python3"
  },
  "language_info": {
   "codemirror_mode": {
    "name": "ipython",
    "version": 3
   },
   "file_extension": ".py",
   "mimetype": "text/x-python",
   "name": "python",
   "nbconvert_exporter": "python",
   "pygments_lexer": "ipython3",
   "version": "3.11.3"
  }
 },
 "nbformat": 4,
 "nbformat_minor": 5
}
